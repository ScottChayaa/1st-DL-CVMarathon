{
 "cells": [
  {
   "cell_type": "markdown",
   "metadata": {},
   "source": [
    "#  作業\n",
    "\n",
    "Hint: 人物原始邊框座標 (60, 40), (420, 510)\n",
    "\n",
    "請根據 Lena 圖做以下處理\n",
    "\n",
    "- 對明亮度做直方圖均衡處理\n",
    "- 水平鏡像 + 縮放處理 (0.5 倍)\n",
    "- 畫出人物矩形邊框"
   ]
  },
  {
   "cell_type": "code",
   "execution_count": 1,
   "metadata": {},
   "outputs": [],
   "source": [
    "import cv2\n",
    "import numpy as np\n",
    "\n",
    "img = cv2.imread('images/lena.png')"
   ]
  },
  {
   "cell_type": "markdown",
   "metadata": {},
   "source": [
    "## Hint: 矩形"
   ]
  },
  {
   "cell_type": "code",
   "execution_count": 3,
   "metadata": {},
   "outputs": [],
   "source": [
    "img_rect = img.copy()\n",
    "cv2.rectangle(img_rect, (60, 40), (420, 510), (0, 0, 255), 3)\n",
    "\n",
    "cv2.imshow('image', img_rect)\n",
    "\n",
    "# 按下任意鍵則關閉所有視窗\n",
    "cv2.waitKey(0)\n",
    "cv2.destroyAllWindows()"
   ]
  },
  {
   "cell_type": "markdown",
   "metadata": {},
   "source": [
    "## Hint: 線"
   ]
  },
  {
   "cell_type": "code",
   "execution_count": 4,
   "metadata": {},
   "outputs": [],
   "source": [
    "img_line = img.copy()\n",
    "cv2.line(img_line, (60, 40), (420, 510), (0, 0, 255), 3)\n",
    "\n",
    "cv2.imshow('image', img_line)\n",
    "\n",
    "# 按下任意鍵則關閉所有視窗\n",
    "cv2.waitKey(0)\n",
    "cv2.destroyAllWindows()\n"
   ]
  },
  {
   "cell_type": "markdown",
   "metadata": {},
   "source": [
    "## Hint: 文字"
   ]
  },
  {
   "cell_type": "code",
   "execution_count": 7,
   "metadata": {},
   "outputs": [],
   "source": [
    "img_text = img.copy()\n",
    "cv2.putText(img_text, '(60, 40)', (60, 40), 0, 1, (0, 0, 255), 2)\n",
    "\n",
    "cv2.imshow('image', img_text)\n",
    "\n",
    "# 按下任意鍵則關閉所有視窗\n",
    "cv2.waitKey(0)\n",
    "cv2.destroyAllWindows()"
   ]
  },
  {
   "cell_type": "markdown",
   "metadata": {},
   "source": [
    "##  解法二\n",
    "\n",
    "如果希望得知矩型邊框的位置\n",
    "\n",
    "1. 顏色的操作 (對明亮度做直方圖均衡)\n",
    "2. 鏡像可以透過四則運算得知\n",
    "3. 透過建構 transformation matrix 做縮放\n",
    "4. 把矩型邊框的點與 transformation matrix 相乘就會得到縮放後的位置\n",
    "5. 畫圖\n",
    "\n",
    "得到的圖的結果正確，同時也知道新的矩型邊框座標點"
   ]
  },
  {
   "cell_type": "code",
   "execution_count": 4,
   "metadata": {},
   "outputs": [
    {
     "name": "stdout",
     "output_type": "stream",
     "text": [
      "origin point1=[452, 40], origin point2=[92, 510]\n",
      "resize point1=(226, 20), resize point2=(46, 255)\n"
     ]
    }
   ],
   "source": [
    "img_hw = img.copy()\n",
    "point1 = [60, 40]\n",
    "point2 = [420, 510]\n",
    "\n",
    "# 直方圖處理 : V\n",
    "img_hsv = cv2.cvtColor(img_hw, cv2.COLOR_BGR2HSV)\n",
    "img_hsv[..., 2] = cv2.equalizeHist(img_hsv[..., 2])\n",
    "img_hw = cv2.cvtColor(img_hsv, cv2.COLOR_HSV2BGR)\n",
    "\n",
    "# 水平翻轉\n",
    "img_hw = img_hw[:, ::-1, :]\n",
    "\n",
    "# 透過四則運算計算鏡像後位置\n",
    "# 確保點的位置一樣是左上跟右下，所以交換鏡像後的 x 座標 (y 座標做水平鏡像後位置不變)\n",
    "h, w = img_hw.shape[:2]\n",
    "point1[0] = w - point1[0]\n",
    "point2[0] = w - point2[0]\n",
    "\n",
    "# 縮放處理 (0.5 倍)\n",
    "fx = 0.5\n",
    "fy = 0.5\n",
    "img_hw = cv2.resize(img_hw, None, fx=fx, fy=fy)\n",
    "\n",
    "# 畫矩形 (-50%)\n",
    "scale_point1 = tuple(np.dot(fx, point1).astype('uint8'))\n",
    "scale_point2 = tuple(np.dot(fy, point2).astype('uint8'))\n",
    "cv2.rectangle(img_hw, scale_point1, scale_point2, (0, 0, 255), 2)\n",
    "\n",
    "print('origin point1={}, origin point2={}'.format(point1, point2))\n",
    "print('resize point1={}, resize point2={}'.format(scale_point1, scale_point2))\n",
    "\n",
    "cv2.imshow('image', img_hw)\n",
    "\n",
    "# 按下任意鍵則關閉所有視窗\n",
    "cv2.waitKey(0)\n",
    "cv2.destroyAllWindows()"
   ]
  },
  {
   "cell_type": "markdown",
   "metadata": {},
   "source": [
    "##  解法三 (optional)\n",
    "\n",
    "把矩型邊框用遮罩的方式呈現，使用同樣處理圖片的方式處理遮罩\n",
    "最後再找遮罩的左上跟右下的點的位置\n",
    "\n",
    "這邊會用到許多沒提過的東西，所以當作 optional"
   ]
  },
  {
   "cell_type": "code",
   "execution_count": null,
   "metadata": {},
   "outputs": [],
   "source": []
  }
 ],
 "metadata": {
  "kernelspec": {
   "display_name": "Python 3",
   "language": "python",
   "name": "python3"
  },
  "language_info": {
   "codemirror_mode": {
    "name": "ipython",
    "version": 3
   },
   "file_extension": ".py",
   "mimetype": "text/x-python",
   "name": "python",
   "nbconvert_exporter": "python",
   "pygments_lexer": "ipython3",
   "version": "3.7.4"
  }
 },
 "nbformat": 4,
 "nbformat_minor": 2
}
